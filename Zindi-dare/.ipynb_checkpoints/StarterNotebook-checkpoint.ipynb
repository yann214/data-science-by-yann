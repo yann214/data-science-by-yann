{
  "cells": [
    {
      "cell_type": "markdown",
      "id": "f9a6f274",
      "metadata": {
        "id": "f9a6f274"
      },
      "source": [
        "# 🎉 Welcome to the ' SheCures: AI for Diabetes Prediction – Celebrating International Girls in ICT Day' Hackathon Starter Notebook\n",
        "This notebook will help you get started on your journey to building an AI model for predicting diabetes types in African women.\n",
        "**Organized by Dare to be Women Tech** in celebration of *International Girls in ICT Day*."
      ]
    },
    {
      "cell_type": "markdown",
      "id": "d885d273",
      "metadata": {
        "id": "d885d273"
      },
      "source": [
        "## 🧩 Problem Statement\n",
        "Your task is to build a machine learning model that can classify the type of diabetes (e.g., Type 2 or gestational) in women based on health-related features."
      ]
    },
    {
      "cell_type": "code",
      "execution_count": null,
      "id": "oS6LPdA382mK",
      "metadata": {
        "colab": {
          "base_uri": "https://localhost:8080/"
        },
        "id": "oS6LPdA382mK",
        "outputId": "0dbdf939-413a-4d13-8d74-299df5e26129"
      },
      "outputs": [
        {
          "name": "stdout",
          "output_type": "stream",
          "text": [
            "Requirement already satisfied: scikit-learn in /usr/local/lib/python3.11/dist-packages (1.6.1)\n",
            "Requirement already satisfied: numpy>=1.19.5 in /usr/local/lib/python3.11/dist-packages (from scikit-learn) (2.0.2)\n",
            "Requirement already satisfied: scipy>=1.6.0 in /usr/local/lib/python3.11/dist-packages (from scikit-learn) (1.14.1)\n",
            "Requirement already satisfied: joblib>=1.2.0 in /usr/local/lib/python3.11/dist-packages (from scikit-learn) (1.4.2)\n",
            "Requirement already satisfied: threadpoolctl>=3.1.0 in /usr/local/lib/python3.11/dist-packages (from scikit-learn) (3.6.0)\n"
          ]
        }
      ],
      "source": [
        "# !pip install -U scikit-learn"
      ]
    },
    {
      "cell_type": "code",
      "execution_count": 1,
      "id": "800f6136",
      "metadata": {
        "id": "800f6136"
      },
      "outputs": [
        {
          "ename": "ModuleNotFoundError",
          "evalue": "No module named 'pandas'",
          "output_type": "error",
          "traceback": [
            "\u001b[1;31m---------------------------------------------------------------------------\u001b[0m",
            "\u001b[1;31mModuleNotFoundError\u001b[0m                       Traceback (most recent call last)",
            "Cell \u001b[1;32mIn[1], line 2\u001b[0m\n\u001b[0;32m      1\u001b[0m \u001b[38;5;66;03m# 📦 Importing libraries\u001b[39;00m\n\u001b[1;32m----> 2\u001b[0m \u001b[38;5;28;01mimport\u001b[39;00m \u001b[38;5;21;01mpandas\u001b[39;00m \u001b[38;5;28;01mas\u001b[39;00m \u001b[38;5;21;01mpd\u001b[39;00m\n\u001b[0;32m      3\u001b[0m \u001b[38;5;28;01mimport\u001b[39;00m \u001b[38;5;21;01mnumpy\u001b[39;00m \u001b[38;5;28;01mas\u001b[39;00m \u001b[38;5;21;01mnp\u001b[39;00m\n\u001b[0;32m      4\u001b[0m \u001b[38;5;28;01mimport\u001b[39;00m \u001b[38;5;21;01mmatplotlib\u001b[39;00m\u001b[38;5;21;01m.\u001b[39;00m\u001b[38;5;21;01mpyplot\u001b[39;00m \u001b[38;5;28;01mas\u001b[39;00m \u001b[38;5;21;01mplt\u001b[39;00m\n",
            "\u001b[1;31mModuleNotFoundError\u001b[0m: No module named 'pandas'"
          ]
        }
      ],
      "source": [
        "# 📦 Importing libraries\n",
        "import pandas as pd\n",
        "import numpy as np\n",
        "import matplotlib.pyplot as plt\n",
        "import seaborn as sns\n",
        "\n",
        "from sklearn.preprocessing import KNNImputer, OneHotEncoding, ColumnTransformer\n",
        "from sklearn.model_selection import train_test_split\n",
        "\n",
        "from sklearn.svm import SVC\n",
        "from sklearn.linear_model import LogisticRegression\n",
        "from sklearn.ensemble import RandomForestClassifier\n",
        "from sklearn.tree import DecisionTreeClassifier\n",
        "\n",
        "from sklearn.metrics import accuracy_score, classification_report\n",
        "\n",
        "import warnings\n",
        "warnings.filterwarnings(\"ignore\")"
      ]
    },
    {
      "cell_type": "code",
      "execution_count": null,
      "id": "e2aaa3eb",
      "metadata": {
        "id": "e2aaa3eb"
      },
      "outputs": [],
      "source": [
        "# 📂 Load the dataset (update the path as needed)\n",
        "df = pd.read_csv(\"data/Train.csv\")\n",
        "df.head()"
      ]
    },
    {
      "cell_type": "code",
      "execution_count": null,
      "id": "c76d052b",
      "metadata": {
        "id": "c76d052b"
      },
      "outputs": [],
      "source": [
        "# ℹ️ Dataset information\n",
        "df.info()"
      ]
    },
    {
      "cell_type": "code",
      "execution_count": null,
      "id": "0b62cff3",
      "metadata": {
        "id": "0b62cff3"
      },
      "outputs": [],
      "source": [
        "# 📊 Basic statistics\n",
        "df.describe()"
      ]
    },
    {
      "cell_type": "code",
      "execution_count": null,
      "id": "098c0b70",
      "metadata": {
        "id": "098c0b70"
      },
      "outputs": [],
      "source": [
        "# 🧮 Class distribution\n",
        "df['diabetes_type'].value_counts()"
      ]
    },
    {
      "cell_type": "code",
      "execution_count": null,
      "id": "ac333d8f",
      "metadata": {
        "id": "ac333d8f"
      },
      "outputs": [],
      "source": [
        "# 🔍 Correlation heatmap\n",
        "sns.heatmap(df.corr(numeric_only = True),annot = True)"
      ]
    },
    {
      "cell_type": "code",
      "execution_count": null,
      "id": "44b94bb6-59d0-4f3c-b106-2e9d792dfa81",
      "metadata": {
        "id": "44b94bb6-59d0-4f3c-b106-2e9d792dfa81"
      },
      "outputs": [],
      "source": [
        "#pairplot of numérical features\n",
        "sns.pairplot(...)"
      ]
    },
    {
      "cell_type": "code",
      "execution_count": null,
      "id": "f5dcdc58",
      "metadata": {
        "id": "f5dcdc58"
      },
      "outputs": [],
      "source": [
        "# 🎯 Data preprocessing\n",
        "num_features = []\n",
        "cat_features = []\n",
        "\n",
        "num_transformer = Pipeline([\n",
        "    (\"imputer\", KNNImputer(n_neighbors = 5)),\n",
        "    (\"scaler\", MinMaxScaler())\n",
        "])\n",
        "\n",
        "cat_transformer = Pipeline([\n",
        "    (\"encoder\", OneHotEncoder(handle_unknown = \"ignore\"))\n",
        "])\n",
        "\n",
        "preprocessor = ColumnTransformer([\n",
        "    (\"num\", num_transformer, num_features),\n",
        "    (\"cat\", cat_transformer, cat_features)\n",
        "])"
      ]
    },
    {
      "cell_type": "code",
      "execution_count": null,
      "id": "b3db6705-4c52-438b-89a6-8a176185697e",
      "metadata": {
        "id": "b3db6705-4c52-438b-89a6-8a176185697e"
      },
      "outputs": [],
      "source": [
        "# Encode categorical variables and split features/target as needed\n",
        "df_cleaned = preprocessor.fit_transform(df)\n",
        "new_columns = (\n",
        "    num_features +\n",
        "    list(preprocessor.named_transformers_['cat'].named_steps['encoder'].get_feature_names_out(cat_features))\n",
        ")\n",
        "\n",
        "# Convert in Pandas DataFrame\n",
        "df_cleaned = pd.DataFrame(df_cleaned, columns=new_columns)\n",
        "\n",
        "X_train,X_test,y_train,y_test = train_test_split(df.drop(\"diabetes_type\", axis = 1), df.diabetes_type, test_size = 0.2, random_state = 42)"
      ]
    },
    {
      "cell_type": "code",
      "execution_count": null,
      "id": "25ed2c40",
      "metadata": {
        "id": "25ed2c40"
      },
      "outputs": [],
      "source": [
        "# 🤖 Baseline prediction Model\n",
        "svm_model = ...\n",
        "forest_model = ...\n",
        "tree_model = ...\n",
        "reg_model = ...\n",
        "\n",
        "models =[svm_model, forest_model, tree_model, reg_model]\n",
        "\n",
        "def train_model(model,xtrain,ytrain,xtest,ytest):\n",
        "    print(\"\", model)\n",
        "    model.fit(xtrain,ytrain)\n",
        "\n",
        "    ypred = model.predict(xtest)\n",
        "    report = classification_report(ypred, ytest)\n",
        "    acc = accuracy_score(ypred, ytest)\n",
        "\n",
        "    return ypred, acc\n",
        "\n",
        "#choose the best model\n",
        "best_model = ..."
      ]
    },
    {
      "cell_type": "code",
      "execution_count": null,
      "id": "91f03339",
      "metadata": {
        "id": "91f03339"
      },
      "outputs": [],
      "source": [
        "# 📤 Generate submission file (update for actual test set)\n",
        "# test_df = pd.read_csv('Test.csv')\n",
        "# predictions = best_model.predict(test_df)\n",
        "# submission = pd.DataFrame({\"id\": test_df['id'], \"diabetes_type\": predictions})\n",
        "# submission.to_csv('submission.csv', index=False)"
      ]
    },
    {
      "cell_type": "markdown",
      "id": "baed9cf6",
      "metadata": {
        "id": "baed9cf6"
      },
      "source": [
        "## 🚀 Next Steps\n",
        "- Try more advanced models (XGBoost, etc.)\n",
        "- Perform feature engineering and selection\n",
        "- Consider model interpretability (SHAP, LIME) for healthcare applications\n",
        "\n",
        "Good luck, and thank you for being part of this impactful challenge! 💙"
      ]
    }
  ],
  "metadata": {
    "colab": {
      "provenance": []
    },
    "kernelspec": {
      "display_name": "Python 3",
      "language": "python",
      "name": "python3"
    },
    "language_info": {
      "codemirror_mode": {
        "name": "ipython",
        "version": 3
      },
      "file_extension": ".py",
      "mimetype": "text/x-python",
      "name": "python",
      "nbconvert_exporter": "python",
      "pygments_lexer": "ipython3",
      "version": "3.8.20"
    }
  },
  "nbformat": 4,
  "nbformat_minor": 5
}
